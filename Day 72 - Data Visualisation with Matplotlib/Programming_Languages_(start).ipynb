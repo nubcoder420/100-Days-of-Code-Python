{
 "cells": [
  {
   "cell_type": "markdown",
   "metadata": {
    "colab_type": "text",
    "id": "MAAKxOwsGxuj"
   },
   "source": [
    "## Get the Data\n",
    "\n",
    "Either use the provided .csv file or (optionally) get fresh (the freshest?) data from running an SQL query on StackExchange: \n",
    "\n",
    "Follow this link to run the query from [StackExchange](https://data.stackexchange.com/stackoverflow/query/675441/popular-programming-languages-per-over-time-eversql-com) to get your own .csv file\n",
    "\n",
    "<code>\n",
    "select dateadd(month, datediff(month, 0, q.CreationDate), 0) m, TagName, count(*)\n",
    "from PostTags pt\n",
    "join Posts q on q.Id=pt.PostId\n",
    "join Tags t on t.Id=pt.TagId\n",
    "where TagName in ('java','c','c++','python','c#','javascript','assembly','php','perl','ruby','visual basic','swift','r','object-c','scratch','go','swift','delphi')\n",
    "and q.CreationDate < dateadd(month, datediff(month, 0, getdate()), 0)\n",
    "group by dateadd(month, datediff(month, 0, q.CreationDate), 0), TagName\n",
    "order by dateadd(month, datediff(month, 0, q.CreationDate), 0)\n",
    "</code>"
   ]
  },
  {
   "cell_type": "markdown",
   "metadata": {
    "colab_type": "text",
    "id": "u5KcSXt1Gxuk"
   },
   "source": [
    "## Import Statements"
   ]
  },
  {
   "cell_type": "code",
   "execution_count": 6,
   "metadata": {
    "colab": {},
    "colab_type": "code",
    "id": "Ru4Wq-pXGxuk"
   },
   "outputs": [],
   "source": [
    "import pandas as pd\n",
    "\n",
    "file_path = r\"C:\\Users\\Mohamad Family\\Desktop\\100 Days of Code  Python\\Github\\100-Days-of-Code-Python\\Day 72 - Data Visualisation with Matplotlib\\QueryResults.csv\"\n"
   ]
  },
  {
   "cell_type": "markdown",
   "metadata": {
    "colab_type": "text",
    "id": "xEP6beuEGxun"
   },
   "source": [
    "## Data Exploration"
   ]
  },
  {
   "cell_type": "markdown",
   "metadata": {
    "colab_type": "text",
    "id": "w3Q75B4CGxun"
   },
   "source": [
    "**Challenge**: Read the .csv file and store it in a Pandas dataframe"
   ]
  },
  {
   "cell_type": "code",
   "execution_count": 8,
   "metadata": {
    "colab": {},
    "colab_type": "code",
    "id": "Bm7hQtEGIiri"
   },
   "outputs": [],
   "source": [
    "df = pd.read_csv(file_path)"
   ]
  },
  {
   "cell_type": "markdown",
   "metadata": {
    "colab_type": "text",
    "id": "x2WnDM75Gxup"
   },
   "source": [
    "**Challenge**: Examine the first 5 rows and the last 5 rows of the of the dataframe"
   ]
  },
  {
   "cell_type": "code",
   "execution_count": 12,
   "metadata": {
    "colab": {},
    "colab_type": "code",
    "id": "50oqpUxVIiJf"
   },
   "outputs": [
    {
     "data": {
      "text/html": [
       "<div>\n",
       "<style scoped>\n",
       "    .dataframe tbody tr th:only-of-type {\n",
       "        vertical-align: middle;\n",
       "    }\n",
       "\n",
       "    .dataframe tbody tr th {\n",
       "        vertical-align: top;\n",
       "    }\n",
       "\n",
       "    .dataframe thead th {\n",
       "        text-align: right;\n",
       "    }\n",
       "</style>\n",
       "<table border=\"1\" class=\"dataframe\">\n",
       "  <thead>\n",
       "    <tr style=\"text-align: right;\">\n",
       "      <th></th>\n",
       "      <th>m</th>\n",
       "      <th>TagName</th>\n",
       "      <th>Unnamed: 2</th>\n",
       "    </tr>\n",
       "  </thead>\n",
       "  <tbody>\n",
       "    <tr>\n",
       "      <th>0</th>\n",
       "      <td>2008-07-01 00:00:00</td>\n",
       "      <td>c#</td>\n",
       "      <td>3</td>\n",
       "    </tr>\n",
       "    <tr>\n",
       "      <th>1</th>\n",
       "      <td>2008-08-01 00:00:00</td>\n",
       "      <td>assembly</td>\n",
       "      <td>8</td>\n",
       "    </tr>\n",
       "    <tr>\n",
       "      <th>2</th>\n",
       "      <td>2008-08-01 00:00:00</td>\n",
       "      <td>c</td>\n",
       "      <td>83</td>\n",
       "    </tr>\n",
       "    <tr>\n",
       "      <th>3</th>\n",
       "      <td>2008-08-01 00:00:00</td>\n",
       "      <td>c#</td>\n",
       "      <td>505</td>\n",
       "    </tr>\n",
       "    <tr>\n",
       "      <th>4</th>\n",
       "      <td>2008-08-01 00:00:00</td>\n",
       "      <td>c++</td>\n",
       "      <td>164</td>\n",
       "    </tr>\n",
       "  </tbody>\n",
       "</table>\n",
       "</div>"
      ],
      "text/plain": [
       "                     m   TagName  Unnamed: 2\n",
       "0  2008-07-01 00:00:00        c#           3\n",
       "1  2008-08-01 00:00:00  assembly           8\n",
       "2  2008-08-01 00:00:00         c          83\n",
       "3  2008-08-01 00:00:00        c#         505\n",
       "4  2008-08-01 00:00:00       c++         164"
      ]
     },
     "execution_count": 12,
     "metadata": {},
     "output_type": "execute_result"
    }
   ],
   "source": [
    "df.head()"
   ]
  },
  {
   "cell_type": "code",
   "execution_count": 13,
   "metadata": {},
   "outputs": [
    {
     "data": {
      "text/html": [
       "<div>\n",
       "<style scoped>\n",
       "    .dataframe tbody tr th:only-of-type {\n",
       "        vertical-align: middle;\n",
       "    }\n",
       "\n",
       "    .dataframe tbody tr th {\n",
       "        vertical-align: top;\n",
       "    }\n",
       "\n",
       "    .dataframe thead th {\n",
       "        text-align: right;\n",
       "    }\n",
       "</style>\n",
       "<table border=\"1\" class=\"dataframe\">\n",
       "  <thead>\n",
       "    <tr style=\"text-align: right;\">\n",
       "      <th></th>\n",
       "      <th>m</th>\n",
       "      <th>TagName</th>\n",
       "      <th>Unnamed: 2</th>\n",
       "    </tr>\n",
       "  </thead>\n",
       "  <tbody>\n",
       "    <tr>\n",
       "      <th>2519</th>\n",
       "      <td>2023-09-01 00:00:00</td>\n",
       "      <td>php</td>\n",
       "      <td>1698</td>\n",
       "    </tr>\n",
       "    <tr>\n",
       "      <th>2520</th>\n",
       "      <td>2023-09-01 00:00:00</td>\n",
       "      <td>python</td>\n",
       "      <td>8776</td>\n",
       "    </tr>\n",
       "    <tr>\n",
       "      <th>2521</th>\n",
       "      <td>2023-09-01 00:00:00</td>\n",
       "      <td>r</td>\n",
       "      <td>2051</td>\n",
       "    </tr>\n",
       "    <tr>\n",
       "      <th>2522</th>\n",
       "      <td>2023-09-01 00:00:00</td>\n",
       "      <td>ruby</td>\n",
       "      <td>192</td>\n",
       "    </tr>\n",
       "    <tr>\n",
       "      <th>2523</th>\n",
       "      <td>2023-09-01 00:00:00</td>\n",
       "      <td>swift</td>\n",
       "      <td>887</td>\n",
       "    </tr>\n",
       "  </tbody>\n",
       "</table>\n",
       "</div>"
      ],
      "text/plain": [
       "                        m TagName  Unnamed: 2\n",
       "2519  2023-09-01 00:00:00     php        1698\n",
       "2520  2023-09-01 00:00:00  python        8776\n",
       "2521  2023-09-01 00:00:00       r        2051\n",
       "2522  2023-09-01 00:00:00    ruby         192\n",
       "2523  2023-09-01 00:00:00   swift         887"
      ]
     },
     "execution_count": 13,
     "metadata": {},
     "output_type": "execute_result"
    }
   ],
   "source": [
    "df.tail()"
   ]
  },
  {
   "cell_type": "markdown",
   "metadata": {
    "colab_type": "text",
    "id": "0o9hvVgyGxus"
   },
   "source": [
    "**Challenge:** Check how many rows and how many columns there are. \n",
    "What are the dimensions of the dataframe?"
   ]
  },
  {
   "cell_type": "code",
   "execution_count": 15,
   "metadata": {
    "colab": {},
    "colab_type": "code",
    "id": "ZUidjCPFIho8"
   },
   "outputs": [
    {
     "data": {
      "text/plain": [
       "(2524, 3)"
      ]
     },
     "execution_count": 15,
     "metadata": {},
     "output_type": "execute_result"
    }
   ],
   "source": [
    "df.shape"
   ]
  },
  {
   "cell_type": "markdown",
   "metadata": {
    "colab_type": "text",
    "id": "ybZkNLmxGxuu"
   },
   "source": [
    "**Challenge**: Count the number of entries in each column of the dataframe"
   ]
  },
  {
   "cell_type": "code",
   "execution_count": 16,
   "metadata": {
    "colab": {},
    "colab_type": "code",
    "id": "Sc1dmmOoIg2g"
   },
   "outputs": [
    {
     "data": {
      "text/plain": [
       "m             2524\n",
       "TagName       2524\n",
       "Unnamed: 2    2524\n",
       "dtype: int64"
      ]
     },
     "execution_count": 16,
     "metadata": {},
     "output_type": "execute_result"
    }
   ],
   "source": [
    "df.count()"
   ]
  },
  {
   "cell_type": "markdown",
   "metadata": {
    "colab_type": "text",
    "id": "hlnfFsscGxuw"
   },
   "source": [
    "**Challenge**: Calculate the total number of post per language.\n",
    "Which Programming language has had the highest total number of posts of all time?"
   ]
  },
  {
   "cell_type": "code",
   "execution_count": 42,
   "metadata": {
    "colab": {},
    "colab_type": "code",
    "id": "9-NYFONcIc1X"
   },
   "outputs": [
    {
     "data": {
      "text/html": [
       "<div>\n",
       "<style scoped>\n",
       "    .dataframe tbody tr th:only-of-type {\n",
       "        vertical-align: middle;\n",
       "    }\n",
       "\n",
       "    .dataframe tbody tr th {\n",
       "        vertical-align: top;\n",
       "    }\n",
       "\n",
       "    .dataframe thead th {\n",
       "        text-align: right;\n",
       "    }\n",
       "</style>\n",
       "<table border=\"1\" class=\"dataframe\">\n",
       "  <thead>\n",
       "    <tr style=\"text-align: right;\">\n",
       "      <th></th>\n",
       "      <th>m</th>\n",
       "      <th>Unnamed: 2</th>\n",
       "    </tr>\n",
       "    <tr>\n",
       "      <th>TagName</th>\n",
       "      <th></th>\n",
       "      <th></th>\n",
       "    </tr>\n",
       "  </thead>\n",
       "  <tbody>\n",
       "    <tr>\n",
       "      <th>assembly</th>\n",
       "      <td>2008-08-01 00:00:002008-09-01 00:00:002008-10-...</td>\n",
       "      <td>43314</td>\n",
       "    </tr>\n",
       "    <tr>\n",
       "      <th>c</th>\n",
       "      <td>2008-08-01 00:00:002008-09-01 00:00:002008-10-...</td>\n",
       "      <td>399407</td>\n",
       "    </tr>\n",
       "    <tr>\n",
       "      <th>c#</th>\n",
       "      <td>2008-07-01 00:00:002008-08-01 00:00:002008-09-...</td>\n",
       "      <td>1601769</td>\n",
       "    </tr>\n",
       "    <tr>\n",
       "      <th>c++</th>\n",
       "      <td>2008-08-01 00:00:002008-09-01 00:00:002008-10-...</td>\n",
       "      <td>798911</td>\n",
       "    </tr>\n",
       "    <tr>\n",
       "      <th>delphi</th>\n",
       "      <td>2008-08-01 00:00:002008-09-01 00:00:002008-10-...</td>\n",
       "      <td>51260</td>\n",
       "    </tr>\n",
       "    <tr>\n",
       "      <th>go</th>\n",
       "      <td>2009-11-01 00:00:002009-12-01 00:00:002010-01-...</td>\n",
       "      <td>70849</td>\n",
       "    </tr>\n",
       "    <tr>\n",
       "      <th>java</th>\n",
       "      <td>2008-08-01 00:00:002008-09-01 00:00:002008-10-...</td>\n",
       "      <td>1905406</td>\n",
       "    </tr>\n",
       "    <tr>\n",
       "      <th>javascript</th>\n",
       "      <td>2008-08-01 00:00:002008-09-01 00:00:002008-10-...</td>\n",
       "      <td>2509742</td>\n",
       "    </tr>\n",
       "    <tr>\n",
       "      <th>perl</th>\n",
       "      <td>2008-08-01 00:00:002008-09-01 00:00:002008-10-...</td>\n",
       "      <td>67857</td>\n",
       "    </tr>\n",
       "    <tr>\n",
       "      <th>php</th>\n",
       "      <td>2008-08-01 00:00:002008-09-01 00:00:002008-10-...</td>\n",
       "      <td>1459959</td>\n",
       "    </tr>\n",
       "    <tr>\n",
       "      <th>python</th>\n",
       "      <td>2008-08-01 00:00:002008-09-01 00:00:002008-10-...</td>\n",
       "      <td>2160111</td>\n",
       "    </tr>\n",
       "    <tr>\n",
       "      <th>r</th>\n",
       "      <td>2008-09-01 00:00:002008-11-01 00:00:002008-12-...</td>\n",
       "      <td>497052</td>\n",
       "    </tr>\n",
       "    <tr>\n",
       "      <th>ruby</th>\n",
       "      <td>2008-08-01 00:00:002008-09-01 00:00:002008-10-...</td>\n",
       "      <td>228391</td>\n",
       "    </tr>\n",
       "    <tr>\n",
       "      <th>swift</th>\n",
       "      <td>2009-01-01 00:00:002009-02-01 00:00:002009-03-...</td>\n",
       "      <td>329879</td>\n",
       "    </tr>\n",
       "  </tbody>\n",
       "</table>\n",
       "</div>"
      ],
      "text/plain": [
       "                                                            m  Unnamed: 2\n",
       "TagName                                                                  \n",
       "assembly    2008-08-01 00:00:002008-09-01 00:00:002008-10-...       43314\n",
       "c           2008-08-01 00:00:002008-09-01 00:00:002008-10-...      399407\n",
       "c#          2008-07-01 00:00:002008-08-01 00:00:002008-09-...     1601769\n",
       "c++         2008-08-01 00:00:002008-09-01 00:00:002008-10-...      798911\n",
       "delphi      2008-08-01 00:00:002008-09-01 00:00:002008-10-...       51260\n",
       "go          2009-11-01 00:00:002009-12-01 00:00:002010-01-...       70849\n",
       "java        2008-08-01 00:00:002008-09-01 00:00:002008-10-...     1905406\n",
       "javascript  2008-08-01 00:00:002008-09-01 00:00:002008-10-...     2509742\n",
       "perl        2008-08-01 00:00:002008-09-01 00:00:002008-10-...       67857\n",
       "php         2008-08-01 00:00:002008-09-01 00:00:002008-10-...     1459959\n",
       "python      2008-08-01 00:00:002008-09-01 00:00:002008-10-...     2160111\n",
       "r           2008-09-01 00:00:002008-11-01 00:00:002008-12-...      497052\n",
       "ruby        2008-08-01 00:00:002008-09-01 00:00:002008-10-...      228391\n",
       "swift       2009-01-01 00:00:002009-02-01 00:00:002009-03-...      329879"
      ]
     },
     "execution_count": 42,
     "metadata": {},
     "output_type": "execute_result"
    }
   ],
   "source": [
    "# Solution from lesson\n",
    "df.groupby('TagName').sum()"
   ]
  },
  {
   "cell_type": "code",
   "execution_count": null,
   "metadata": {},
   "outputs": [],
   "source": []
  },
  {
   "cell_type": "code",
   "execution_count": 29,
   "metadata": {},
   "outputs": [
    {
     "data": {
      "text/plain": [
       "TagName\n",
       "assembly      182\n",
       "c             182\n",
       "c#            183\n",
       "c++           182\n",
       "delphi        182\n",
       "go            167\n",
       "java          182\n",
       "javascript    182\n",
       "perl          182\n",
       "php           182\n",
       "python        182\n",
       "r             180\n",
       "ruby          182\n",
       "swift         174\n",
       "dtype: int64"
      ]
     },
     "execution_count": 29,
     "metadata": {},
     "output_type": "execute_result"
    }
   ],
   "source": [
    "df.groupby('TagName').size()"
   ]
  },
  {
   "cell_type": "code",
   "execution_count": null,
   "metadata": {},
   "outputs": [],
   "source": []
  },
  {
   "cell_type": "markdown",
   "metadata": {
    "colab_type": "text",
    "id": "iVCesB49Gxuz"
   },
   "source": [
    "Some languages are older (e.g., C) and other languages are newer (e.g., Swift). The dataset starts in September 2008.\n",
    "\n",
    "**Challenge**: How many months of data exist per language? Which language had the fewest months with an entry? \n"
   ]
  },
  {
   "cell_type": "code",
   "execution_count": 30,
   "metadata": {
    "colab": {},
    "colab_type": "code",
    "id": "hDT4JlJNJfgQ"
   },
   "outputs": [
    {
     "data": {
      "text/html": [
       "<div>\n",
       "<style scoped>\n",
       "    .dataframe tbody tr th:only-of-type {\n",
       "        vertical-align: middle;\n",
       "    }\n",
       "\n",
       "    .dataframe tbody tr th {\n",
       "        vertical-align: top;\n",
       "    }\n",
       "\n",
       "    .dataframe thead th {\n",
       "        text-align: right;\n",
       "    }\n",
       "</style>\n",
       "<table border=\"1\" class=\"dataframe\">\n",
       "  <thead>\n",
       "    <tr style=\"text-align: right;\">\n",
       "      <th></th>\n",
       "      <th>m</th>\n",
       "      <th>Unnamed: 2</th>\n",
       "    </tr>\n",
       "    <tr>\n",
       "      <th>TagName</th>\n",
       "      <th></th>\n",
       "      <th></th>\n",
       "    </tr>\n",
       "  </thead>\n",
       "  <tbody>\n",
       "    <tr>\n",
       "      <th>assembly</th>\n",
       "      <td>182</td>\n",
       "      <td>182</td>\n",
       "    </tr>\n",
       "    <tr>\n",
       "      <th>c</th>\n",
       "      <td>182</td>\n",
       "      <td>182</td>\n",
       "    </tr>\n",
       "    <tr>\n",
       "      <th>c#</th>\n",
       "      <td>183</td>\n",
       "      <td>183</td>\n",
       "    </tr>\n",
       "    <tr>\n",
       "      <th>c++</th>\n",
       "      <td>182</td>\n",
       "      <td>182</td>\n",
       "    </tr>\n",
       "    <tr>\n",
       "      <th>delphi</th>\n",
       "      <td>182</td>\n",
       "      <td>182</td>\n",
       "    </tr>\n",
       "    <tr>\n",
       "      <th>go</th>\n",
       "      <td>167</td>\n",
       "      <td>167</td>\n",
       "    </tr>\n",
       "    <tr>\n",
       "      <th>java</th>\n",
       "      <td>182</td>\n",
       "      <td>182</td>\n",
       "    </tr>\n",
       "    <tr>\n",
       "      <th>javascript</th>\n",
       "      <td>182</td>\n",
       "      <td>182</td>\n",
       "    </tr>\n",
       "    <tr>\n",
       "      <th>perl</th>\n",
       "      <td>182</td>\n",
       "      <td>182</td>\n",
       "    </tr>\n",
       "    <tr>\n",
       "      <th>php</th>\n",
       "      <td>182</td>\n",
       "      <td>182</td>\n",
       "    </tr>\n",
       "    <tr>\n",
       "      <th>python</th>\n",
       "      <td>182</td>\n",
       "      <td>182</td>\n",
       "    </tr>\n",
       "    <tr>\n",
       "      <th>r</th>\n",
       "      <td>180</td>\n",
       "      <td>180</td>\n",
       "    </tr>\n",
       "    <tr>\n",
       "      <th>ruby</th>\n",
       "      <td>182</td>\n",
       "      <td>182</td>\n",
       "    </tr>\n",
       "    <tr>\n",
       "      <th>swift</th>\n",
       "      <td>174</td>\n",
       "      <td>174</td>\n",
       "    </tr>\n",
       "  </tbody>\n",
       "</table>\n",
       "</div>"
      ],
      "text/plain": [
       "              m  Unnamed: 2\n",
       "TagName                    \n",
       "assembly    182         182\n",
       "c           182         182\n",
       "c#          183         183\n",
       "c++         182         182\n",
       "delphi      182         182\n",
       "go          167         167\n",
       "java        182         182\n",
       "javascript  182         182\n",
       "perl        182         182\n",
       "php         182         182\n",
       "python      182         182\n",
       "r           180         180\n",
       "ruby        182         182\n",
       "swift       174         174"
      ]
     },
     "execution_count": 30,
     "metadata": {},
     "output_type": "execute_result"
    }
   ],
   "source": [
    "df.groupby('TagName').count()"
   ]
  },
  {
   "cell_type": "markdown",
   "metadata": {
    "colab_type": "text",
    "id": "arguGp3ZGxu1"
   },
   "source": [
    "## Data Cleaning\n",
    "\n",
    "Let's fix the date format to make it more readable. We need to use Pandas to change format from a string of \"2008-07-01 00:00:00\" to a datetime object with the format of \"2008-07-01\""
   ]
  },
  {
   "cell_type": "code",
   "execution_count": null,
   "metadata": {
    "colab": {},
    "colab_type": "code",
    "id": "5nh5a4UtGxu1"
   },
   "outputs": [],
   "source": []
  },
  {
   "cell_type": "code",
   "execution_count": null,
   "metadata": {
    "colab": {},
    "colab_type": "code",
    "id": "016H-Fy4Gxu3"
   },
   "outputs": [],
   "source": []
  },
  {
   "cell_type": "code",
   "execution_count": 44,
   "metadata": {
    "colab": {},
    "colab_type": "code",
    "id": "4EiSd7pdGxu5"
   },
   "outputs": [
    {
     "data": {
      "text/plain": [
       "'2008-08-01 00:00:00'"
      ]
     },
     "execution_count": 44,
     "metadata": {},
     "output_type": "execute_result"
    }
   ],
   "source": []
  },
  {
   "cell_type": "markdown",
   "metadata": {
    "colab_type": "text",
    "id": "rWAV6tuzGxu6"
   },
   "source": [
    "## Data Manipulation\n",
    "\n"
   ]
  },
  {
   "cell_type": "code",
   "execution_count": 5,
   "metadata": {
    "colab": {},
    "colab_type": "code",
    "id": "aHhbulJaGxu7"
   },
   "outputs": [],
   "source": []
  },
  {
   "cell_type": "markdown",
   "metadata": {
    "colab_type": "text",
    "id": "RWKcVIyFKwHM"
   },
   "source": [
    "**Challenge**: What are the dimensions of our new dataframe? How many rows and columns does it have? Print out the column names and print out the first 5 rows of the dataframe."
   ]
  },
  {
   "cell_type": "code",
   "execution_count": 5,
   "metadata": {
    "colab": {},
    "colab_type": "code",
    "id": "v-u4FcLXGxu9"
   },
   "outputs": [],
   "source": []
  },
  {
   "cell_type": "code",
   "execution_count": 5,
   "metadata": {
    "colab": {},
    "colab_type": "code",
    "id": "NUyBcaMMGxu-"
   },
   "outputs": [],
   "source": []
  },
  {
   "cell_type": "code",
   "execution_count": 5,
   "metadata": {
    "colab": {},
    "colab_type": "code",
    "id": "LnUIOL3LGxvA"
   },
   "outputs": [],
   "source": []
  },
  {
   "cell_type": "markdown",
   "metadata": {
    "colab_type": "text",
    "id": "BoDCuRU0GxvC"
   },
   "source": [
    "**Challenge**: Count the number of entries per programming language. Why might the number of entries be different? "
   ]
  },
  {
   "cell_type": "code",
   "execution_count": 5,
   "metadata": {
    "colab": {},
    "colab_type": "code",
    "id": "-peEFgaMGxvE"
   },
   "outputs": [],
   "source": []
  },
  {
   "cell_type": "code",
   "execution_count": 5,
   "metadata": {
    "colab": {},
    "colab_type": "code",
    "id": "01f2BCF8GxvG"
   },
   "outputs": [],
   "source": []
  },
  {
   "cell_type": "code",
   "execution_count": 5,
   "metadata": {
    "colab": {},
    "colab_type": "code",
    "id": "KooRRxAdGxvI"
   },
   "outputs": [],
   "source": []
  },
  {
   "cell_type": "markdown",
   "metadata": {
    "colab_type": "text",
    "id": "8xU7l_f4GxvK"
   },
   "source": [
    "## Data Visualisaton with with Matplotlib\n"
   ]
  },
  {
   "cell_type": "markdown",
   "metadata": {
    "colab_type": "text",
    "id": "njnNXTlhGxvK"
   },
   "source": [
    "**Challenge**: Use the [matplotlib documentation](https://matplotlib.org/3.2.1/api/_as_gen/matplotlib.pyplot.plot.html#matplotlib.pyplot.plot) to plot a single programming language (e.g., java) on a chart."
   ]
  },
  {
   "cell_type": "code",
   "execution_count": 5,
   "metadata": {
    "colab": {},
    "colab_type": "code",
    "id": "S0OS8T8iGxvL"
   },
   "outputs": [],
   "source": []
  },
  {
   "cell_type": "code",
   "execution_count": 5,
   "metadata": {
    "colab": {},
    "colab_type": "code",
    "id": "EU6AV1l9GxvM"
   },
   "outputs": [],
   "source": []
  },
  {
   "cell_type": "code",
   "execution_count": 5,
   "metadata": {
    "colab": {},
    "colab_type": "code",
    "id": "_Qzzg6b_GxvO"
   },
   "outputs": [],
   "source": []
  },
  {
   "cell_type": "markdown",
   "metadata": {
    "colab_type": "text",
    "id": "Sm2DL5tZGxvQ"
   },
   "source": [
    "**Challenge**: Show two line (e.g. for Java and Python) on the same chart."
   ]
  },
  {
   "cell_type": "code",
   "execution_count": 5,
   "metadata": {
    "colab": {},
    "colab_type": "code",
    "id": "T-0vClQSGxvQ"
   },
   "outputs": [],
   "source": []
  },
  {
   "cell_type": "markdown",
   "metadata": {
    "colab_type": "text",
    "id": "3jSjfPy7GxvY"
   },
   "source": [
    "# Smoothing out Time Series Data\n",
    "\n",
    "Time series data can be quite noisy, with a lot of up and down spikes. To better see a trend we can plot an average of, say 6 or 12 observations. This is called the rolling mean. We calculate the average in a window of time and move it forward by one overservation. Pandas has two handy methods already built in to work this out: [rolling()](https://pandas.pydata.org/pandas-docs/stable/reference/api/pandas.DataFrame.rolling.html) and [mean()](https://pandas.pydata.org/pandas-docs/stable/reference/api/pandas.core.window.rolling.Rolling.mean.html). "
   ]
  },
  {
   "cell_type": "code",
   "execution_count": null,
   "metadata": {
    "colab": {},
    "colab_type": "code",
    "id": "s3WYd3OgGxvc"
   },
   "outputs": [],
   "source": []
  },
  {
   "cell_type": "code",
   "execution_count": null,
   "metadata": {
    "colab": {},
    "colab_type": "code",
    "id": "WMJOX8Y2Gxvd"
   },
   "outputs": [],
   "source": []
  },
  {
   "cell_type": "code",
   "execution_count": null,
   "metadata": {
    "colab": {},
    "colab_type": "code",
    "id": "fAvvarA7Gxvf"
   },
   "outputs": [],
   "source": []
  },
  {
   "cell_type": "code",
   "execution_count": null,
   "metadata": {
    "colab": {},
    "colab_type": "code",
    "id": "Gm0Ww0S4Gxvg"
   },
   "outputs": [],
   "source": []
  }
 ],
 "metadata": {
  "colab": {
   "name": "Programming Languages (start).ipynb",
   "provenance": []
  },
  "kernelspec": {
   "display_name": "Python 3 (ipykernel)",
   "language": "python",
   "name": "python3"
  },
  "language_info": {
   "codemirror_mode": {
    "name": "ipython",
    "version": 3
   },
   "file_extension": ".py",
   "mimetype": "text/x-python",
   "name": "python",
   "nbconvert_exporter": "python",
   "pygments_lexer": "ipython3",
   "version": "3.11.5"
  }
 },
 "nbformat": 4,
 "nbformat_minor": 1
}
